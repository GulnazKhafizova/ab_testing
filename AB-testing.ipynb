{
 "cells": [
  {
   "cell_type": "markdown",
   "metadata": {},
   "source": [
    "# Кейс 11. Анализ А/Б-теста для \"Дункан МакКлауд\" \n",
    "\n",
    "Был запущен А/Б-тест на два вида лендинга:\n",
    "А - короткий, на один экран, с ярким call-to-action,\n",
    "Б - длинный, с подробным разъяснением всех плюсов платформы для облачного хранения данных «Дункан МакКлауд».\n",
    "\n",
    "## Задача: \n",
    "Определить с какого лендинга приходит больше людей? Какое качество этих пользователей (в денежном эквиваленте)?\n",
    "\n",
    "### Подготовка данных:\n",
    "#### Импортируем нужные библиотеки и функции"
   ]
  },
  {
   "cell_type": "code",
   "execution_count": 1,
   "metadata": {},
   "outputs": [],
   "source": [
    "import pandas as pd\n",
    "import numpy as np\n",
    "import matplotlib.pyplot as plt\n",
    "from scipy import stats\n",
    "from statsmodels.stats.proportion import proportion_confint\n",
    "from statsmodels.stats.weightstats import ztest\n",
    "from datetime import datetime"
   ]
  },
  {
   "cell_type": "markdown",
   "metadata": {},
   "source": [
    "#### Читаем таблицу ab_test_cookies"
   ]
  },
  {
   "cell_type": "code",
   "execution_count": 2,
   "metadata": {},
   "outputs": [
    {
     "data": {
      "text/html": [
       "<div>\n",
       "<style scoped>\n",
       "    .dataframe tbody tr th:only-of-type {\n",
       "        vertical-align: middle;\n",
       "    }\n",
       "\n",
       "    .dataframe tbody tr th {\n",
       "        vertical-align: top;\n",
       "    }\n",
       "\n",
       "    .dataframe thead th {\n",
       "        text-align: right;\n",
       "    }\n",
       "</style>\n",
       "<table border=\"1\" class=\"dataframe\">\n",
       "  <thead>\n",
       "    <tr style=\"text-align: right;\">\n",
       "      <th></th>\n",
       "      <th>cookie_id</th>\n",
       "      <th>grp</th>\n",
       "    </tr>\n",
       "  </thead>\n",
       "  <tbody>\n",
       "    <tr>\n",
       "      <th>0</th>\n",
       "      <td>65hj0vyf6kfrckx</td>\n",
       "      <td>A</td>\n",
       "    </tr>\n",
       "    <tr>\n",
       "      <th>1</th>\n",
       "      <td>dnjw8oy95td2jqf</td>\n",
       "      <td>B</td>\n",
       "    </tr>\n",
       "    <tr>\n",
       "      <th>2</th>\n",
       "      <td>beiyb0xfie92m43</td>\n",
       "      <td>B</td>\n",
       "    </tr>\n",
       "    <tr>\n",
       "      <th>3</th>\n",
       "      <td>xyd746tr80pnnbi</td>\n",
       "      <td>B</td>\n",
       "    </tr>\n",
       "    <tr>\n",
       "      <th>4</th>\n",
       "      <td>dpq6rqi93zgekgv</td>\n",
       "      <td>A</td>\n",
       "    </tr>\n",
       "    <tr>\n",
       "      <th>...</th>\n",
       "      <td>...</td>\n",
       "      <td>...</td>\n",
       "    </tr>\n",
       "    <tr>\n",
       "      <th>253167</th>\n",
       "      <td>e2e7xo4mh9gbqpb</td>\n",
       "      <td>A</td>\n",
       "    </tr>\n",
       "    <tr>\n",
       "      <th>253168</th>\n",
       "      <td>cmwfr9djxdj6vgr</td>\n",
       "      <td>B</td>\n",
       "    </tr>\n",
       "    <tr>\n",
       "      <th>253169</th>\n",
       "      <td>0ou6tl9qdzq9w4x</td>\n",
       "      <td>B</td>\n",
       "    </tr>\n",
       "    <tr>\n",
       "      <th>253170</th>\n",
       "      <td>c375picbbkkzfy9</td>\n",
       "      <td>B</td>\n",
       "    </tr>\n",
       "    <tr>\n",
       "      <th>253171</th>\n",
       "      <td>wi2tfquoi6uraot</td>\n",
       "      <td>A</td>\n",
       "    </tr>\n",
       "  </tbody>\n",
       "</table>\n",
       "<p>253172 rows × 2 columns</p>\n",
       "</div>"
      ],
      "text/plain": [
       "              cookie_id grp\n",
       "0       65hj0vyf6kfrckx   A\n",
       "1       dnjw8oy95td2jqf   B\n",
       "2       beiyb0xfie92m43   B\n",
       "3       xyd746tr80pnnbi   B\n",
       "4       dpq6rqi93zgekgv   A\n",
       "...                 ...  ..\n",
       "253167  e2e7xo4mh9gbqpb   A\n",
       "253168  cmwfr9djxdj6vgr   B\n",
       "253169  0ou6tl9qdzq9w4x   B\n",
       "253170  c375picbbkkzfy9   B\n",
       "253171  wi2tfquoi6uraot   A\n",
       "\n",
       "[253172 rows x 2 columns]"
      ]
     },
     "execution_count": 2,
     "metadata": {},
     "output_type": "execute_result"
    }
   ],
   "source": [
    "cookies = pd.read_csv('ab_test_cookies.csv')\n",
    "cookies"
   ]
  },
  {
   "cell_type": "markdown",
   "metadata": {},
   "source": [
    "#### Читаем таблицу registrations_in_test_period"
   ]
  },
  {
   "cell_type": "code",
   "execution_count": 3,
   "metadata": {},
   "outputs": [
    {
     "data": {
      "text/html": [
       "<div>\n",
       "<style scoped>\n",
       "    .dataframe tbody tr th:only-of-type {\n",
       "        vertical-align: middle;\n",
       "    }\n",
       "\n",
       "    .dataframe tbody tr th {\n",
       "        vertical-align: top;\n",
       "    }\n",
       "\n",
       "    .dataframe thead th {\n",
       "        text-align: right;\n",
       "    }\n",
       "</style>\n",
       "<table border=\"1\" class=\"dataframe\">\n",
       "  <thead>\n",
       "    <tr style=\"text-align: right;\">\n",
       "      <th></th>\n",
       "      <th>cookie_id</th>\n",
       "      <th>user_id</th>\n",
       "    </tr>\n",
       "  </thead>\n",
       "  <tbody>\n",
       "    <tr>\n",
       "      <th>0</th>\n",
       "      <td>NaN</td>\n",
       "      <td>382603</td>\n",
       "    </tr>\n",
       "    <tr>\n",
       "      <th>1</th>\n",
       "      <td>NaN</td>\n",
       "      <td>295154</td>\n",
       "    </tr>\n",
       "    <tr>\n",
       "      <th>2</th>\n",
       "      <td>NaN</td>\n",
       "      <td>999732</td>\n",
       "    </tr>\n",
       "    <tr>\n",
       "      <th>3</th>\n",
       "      <td>NaN</td>\n",
       "      <td>16486</td>\n",
       "    </tr>\n",
       "    <tr>\n",
       "      <th>4</th>\n",
       "      <td>NaN</td>\n",
       "      <td>678352</td>\n",
       "    </tr>\n",
       "    <tr>\n",
       "      <th>...</th>\n",
       "      <td>...</td>\n",
       "      <td>...</td>\n",
       "    </tr>\n",
       "    <tr>\n",
       "      <th>172345</th>\n",
       "      <td>cnktcu0sdbzr7bb</td>\n",
       "      <td>492436</td>\n",
       "    </tr>\n",
       "    <tr>\n",
       "      <th>172346</th>\n",
       "      <td>NaN</td>\n",
       "      <td>213291</td>\n",
       "    </tr>\n",
       "    <tr>\n",
       "      <th>172347</th>\n",
       "      <td>NaN</td>\n",
       "      <td>684800</td>\n",
       "    </tr>\n",
       "    <tr>\n",
       "      <th>172348</th>\n",
       "      <td>kphh4v8s6lk187h</td>\n",
       "      <td>262963</td>\n",
       "    </tr>\n",
       "    <tr>\n",
       "      <th>172349</th>\n",
       "      <td>NaN</td>\n",
       "      <td>958655</td>\n",
       "    </tr>\n",
       "  </tbody>\n",
       "</table>\n",
       "<p>172350 rows × 2 columns</p>\n",
       "</div>"
      ],
      "text/plain": [
       "              cookie_id  user_id\n",
       "0                   NaN   382603\n",
       "1                   NaN   295154\n",
       "2                   NaN   999732\n",
       "3                   NaN    16486\n",
       "4                   NaN   678352\n",
       "...                 ...      ...\n",
       "172345  cnktcu0sdbzr7bb   492436\n",
       "172346              NaN   213291\n",
       "172347              NaN   684800\n",
       "172348  kphh4v8s6lk187h   262963\n",
       "172349              NaN   958655\n",
       "\n",
       "[172350 rows x 2 columns]"
      ]
     },
     "execution_count": 3,
     "metadata": {},
     "output_type": "execute_result"
    }
   ],
   "source": [
    "registrations = pd.read_csv('registrations_in_test_period.csv')\n",
    "registrations"
   ]
  },
  {
   "cell_type": "markdown",
   "metadata": {},
   "source": [
    "#### Читаем таблицу purchases_in_test_period"
   ]
  },
  {
   "cell_type": "code",
   "execution_count": 4,
   "metadata": {},
   "outputs": [
    {
     "data": {
      "text/html": [
       "<div>\n",
       "<style scoped>\n",
       "    .dataframe tbody tr th:only-of-type {\n",
       "        vertical-align: middle;\n",
       "    }\n",
       "\n",
       "    .dataframe tbody tr th {\n",
       "        vertical-align: top;\n",
       "    }\n",
       "\n",
       "    .dataframe thead th {\n",
       "        text-align: right;\n",
       "    }\n",
       "</style>\n",
       "<table border=\"1\" class=\"dataframe\">\n",
       "  <thead>\n",
       "    <tr style=\"text-align: right;\">\n",
       "      <th></th>\n",
       "      <th>purchase_id</th>\n",
       "      <th>user_id</th>\n",
       "      <th>amount</th>\n",
       "    </tr>\n",
       "  </thead>\n",
       "  <tbody>\n",
       "    <tr>\n",
       "      <th>0</th>\n",
       "      <td>1</td>\n",
       "      <td>275851</td>\n",
       "      <td>350</td>\n",
       "    </tr>\n",
       "    <tr>\n",
       "      <th>1</th>\n",
       "      <td>2</td>\n",
       "      <td>923077</td>\n",
       "      <td>1500</td>\n",
       "    </tr>\n",
       "    <tr>\n",
       "      <th>2</th>\n",
       "      <td>3</td>\n",
       "      <td>959409</td>\n",
       "      <td>50</td>\n",
       "    </tr>\n",
       "    <tr>\n",
       "      <th>3</th>\n",
       "      <td>4</td>\n",
       "      <td>692022</td>\n",
       "      <td>350</td>\n",
       "    </tr>\n",
       "    <tr>\n",
       "      <th>4</th>\n",
       "      <td>5</td>\n",
       "      <td>737918</td>\n",
       "      <td>50</td>\n",
       "    </tr>\n",
       "    <tr>\n",
       "      <th>...</th>\n",
       "      <td>...</td>\n",
       "      <td>...</td>\n",
       "      <td>...</td>\n",
       "    </tr>\n",
       "    <tr>\n",
       "      <th>35142</th>\n",
       "      <td>35143</td>\n",
       "      <td>473919</td>\n",
       "      <td>1500</td>\n",
       "    </tr>\n",
       "    <tr>\n",
       "      <th>35143</th>\n",
       "      <td>35144</td>\n",
       "      <td>917205</td>\n",
       "      <td>350</td>\n",
       "    </tr>\n",
       "    <tr>\n",
       "      <th>35144</th>\n",
       "      <td>35145</td>\n",
       "      <td>635988</td>\n",
       "      <td>50</td>\n",
       "    </tr>\n",
       "    <tr>\n",
       "      <th>35145</th>\n",
       "      <td>35146</td>\n",
       "      <td>525611</td>\n",
       "      <td>1500</td>\n",
       "    </tr>\n",
       "    <tr>\n",
       "      <th>35146</th>\n",
       "      <td>35147</td>\n",
       "      <td>588867</td>\n",
       "      <td>1500</td>\n",
       "    </tr>\n",
       "  </tbody>\n",
       "</table>\n",
       "<p>35147 rows × 3 columns</p>\n",
       "</div>"
      ],
      "text/plain": [
       "       purchase_id  user_id  amount\n",
       "0                1   275851     350\n",
       "1                2   923077    1500\n",
       "2                3   959409      50\n",
       "3                4   692022     350\n",
       "4                5   737918      50\n",
       "...            ...      ...     ...\n",
       "35142        35143   473919    1500\n",
       "35143        35144   917205     350\n",
       "35144        35145   635988      50\n",
       "35145        35146   525611    1500\n",
       "35146        35147   588867    1500\n",
       "\n",
       "[35147 rows x 3 columns]"
      ]
     },
     "execution_count": 4,
     "metadata": {},
     "output_type": "execute_result"
    }
   ],
   "source": [
    "purchases = pd.read_csv('purchases_in_test_period.csv')\n",
    "purchases"
   ]
  },
  {
   "cell_type": "markdown",
   "metadata": {},
   "source": [
    "Так как у пользователя может быть несколько покупок, нам нужно провести агрегацию по пользователю:"
   ]
  },
  {
   "cell_type": "code",
   "execution_count": 5,
   "metadata": {},
   "outputs": [
    {
     "data": {
      "text/html": [
       "<div>\n",
       "<style scoped>\n",
       "    .dataframe tbody tr th:only-of-type {\n",
       "        vertical-align: middle;\n",
       "    }\n",
       "\n",
       "    .dataframe tbody tr th {\n",
       "        vertical-align: top;\n",
       "    }\n",
       "\n",
       "    .dataframe thead th {\n",
       "        text-align: right;\n",
       "    }\n",
       "</style>\n",
       "<table border=\"1\" class=\"dataframe\">\n",
       "  <thead>\n",
       "    <tr style=\"text-align: right;\">\n",
       "      <th></th>\n",
       "      <th>user_id</th>\n",
       "      <th>amount</th>\n",
       "    </tr>\n",
       "  </thead>\n",
       "  <tbody>\n",
       "    <tr>\n",
       "      <th>0</th>\n",
       "      <td>0</td>\n",
       "      <td>350</td>\n",
       "    </tr>\n",
       "    <tr>\n",
       "      <th>1</th>\n",
       "      <td>27</td>\n",
       "      <td>700</td>\n",
       "    </tr>\n",
       "    <tr>\n",
       "      <th>2</th>\n",
       "      <td>33</td>\n",
       "      <td>350</td>\n",
       "    </tr>\n",
       "    <tr>\n",
       "      <th>3</th>\n",
       "      <td>61</td>\n",
       "      <td>50</td>\n",
       "    </tr>\n",
       "    <tr>\n",
       "      <th>4</th>\n",
       "      <td>76</td>\n",
       "      <td>1500</td>\n",
       "    </tr>\n",
       "    <tr>\n",
       "      <th>...</th>\n",
       "      <td>...</td>\n",
       "      <td>...</td>\n",
       "    </tr>\n",
       "    <tr>\n",
       "      <th>33735</th>\n",
       "      <td>999817</td>\n",
       "      <td>50</td>\n",
       "    </tr>\n",
       "    <tr>\n",
       "      <th>33736</th>\n",
       "      <td>999837</td>\n",
       "      <td>350</td>\n",
       "    </tr>\n",
       "    <tr>\n",
       "      <th>33737</th>\n",
       "      <td>999877</td>\n",
       "      <td>350</td>\n",
       "    </tr>\n",
       "    <tr>\n",
       "      <th>33738</th>\n",
       "      <td>999915</td>\n",
       "      <td>350</td>\n",
       "    </tr>\n",
       "    <tr>\n",
       "      <th>33739</th>\n",
       "      <td>999944</td>\n",
       "      <td>50</td>\n",
       "    </tr>\n",
       "  </tbody>\n",
       "</table>\n",
       "<p>33740 rows × 2 columns</p>\n",
       "</div>"
      ],
      "text/plain": [
       "       user_id  amount\n",
       "0            0     350\n",
       "1           27     700\n",
       "2           33     350\n",
       "3           61      50\n",
       "4           76    1500\n",
       "...        ...     ...\n",
       "33735   999817      50\n",
       "33736   999837     350\n",
       "33737   999877     350\n",
       "33738   999915     350\n",
       "33739   999944      50\n",
       "\n",
       "[33740 rows x 2 columns]"
      ]
     },
     "execution_count": 5,
     "metadata": {},
     "output_type": "execute_result"
    }
   ],
   "source": [
    "gr_purchases = purchases.groupby('user_id', as_index = False).agg({'amount':'sum'})\n",
    "gr_purchases"
   ]
  },
  {
   "cell_type": "markdown",
   "metadata": {},
   "source": [
    "#### Cоединим наши таблицы\n",
    "\n",
    "Учитываем, что в таблице **cookies** содержится информация о пользователях, посетивших лендинг, а в дальнейшем зарегистрировавшихся (есть данные в таблице **registrations**) и незарегистрировавшихся на платформе, а в таблице **registrations** есть также данные по пользователям, пришедшим вне лендинга, объединяем данные по left join:"
   ]
  },
  {
   "cell_type": "code",
   "execution_count": 6,
   "metadata": {},
   "outputs": [
    {
     "data": {
      "text/html": [
       "<div>\n",
       "<style scoped>\n",
       "    .dataframe tbody tr th:only-of-type {\n",
       "        vertical-align: middle;\n",
       "    }\n",
       "\n",
       "    .dataframe tbody tr th {\n",
       "        vertical-align: top;\n",
       "    }\n",
       "\n",
       "    .dataframe thead th {\n",
       "        text-align: right;\n",
       "    }\n",
       "</style>\n",
       "<table border=\"1\" class=\"dataframe\">\n",
       "  <thead>\n",
       "    <tr style=\"text-align: right;\">\n",
       "      <th></th>\n",
       "      <th>cookie_id</th>\n",
       "      <th>grp</th>\n",
       "      <th>user_id</th>\n",
       "    </tr>\n",
       "  </thead>\n",
       "  <tbody>\n",
       "    <tr>\n",
       "      <th>0</th>\n",
       "      <td>65hj0vyf6kfrckx</td>\n",
       "      <td>A</td>\n",
       "      <td>716849.0</td>\n",
       "    </tr>\n",
       "    <tr>\n",
       "      <th>1</th>\n",
       "      <td>dnjw8oy95td2jqf</td>\n",
       "      <td>B</td>\n",
       "      <td>NaN</td>\n",
       "    </tr>\n",
       "    <tr>\n",
       "      <th>2</th>\n",
       "      <td>beiyb0xfie92m43</td>\n",
       "      <td>B</td>\n",
       "      <td>NaN</td>\n",
       "    </tr>\n",
       "    <tr>\n",
       "      <th>3</th>\n",
       "      <td>xyd746tr80pnnbi</td>\n",
       "      <td>B</td>\n",
       "      <td>NaN</td>\n",
       "    </tr>\n",
       "    <tr>\n",
       "      <th>4</th>\n",
       "      <td>dpq6rqi93zgekgv</td>\n",
       "      <td>A</td>\n",
       "      <td>NaN</td>\n",
       "    </tr>\n",
       "  </tbody>\n",
       "</table>\n",
       "</div>"
      ],
      "text/plain": [
       "         cookie_id grp   user_id\n",
       "0  65hj0vyf6kfrckx   A  716849.0\n",
       "1  dnjw8oy95td2jqf   B       NaN\n",
       "2  beiyb0xfie92m43   B       NaN\n",
       "3  xyd746tr80pnnbi   B       NaN\n",
       "4  dpq6rqi93zgekgv   A       NaN"
      ]
     },
     "execution_count": 6,
     "metadata": {},
     "output_type": "execute_result"
    }
   ],
   "source": [
    "cook_reg = cookies.merge(registrations, on = 'cookie_id', how = 'left')\n",
    "cook_reg.head()"
   ]
  },
  {
   "cell_type": "markdown",
   "metadata": {},
   "source": [
    "Посмотрим, сколько пользователей пришло из каждого лендинга:"
   ]
  },
  {
   "cell_type": "code",
   "execution_count": 7,
   "metadata": {},
   "outputs": [
    {
     "data": {
      "text/html": [
       "<div>\n",
       "<style scoped>\n",
       "    .dataframe tbody tr th:only-of-type {\n",
       "        vertical-align: middle;\n",
       "    }\n",
       "\n",
       "    .dataframe tbody tr th {\n",
       "        vertical-align: top;\n",
       "    }\n",
       "\n",
       "    .dataframe thead th {\n",
       "        text-align: right;\n",
       "    }\n",
       "</style>\n",
       "<table border=\"1\" class=\"dataframe\">\n",
       "  <thead>\n",
       "    <tr style=\"text-align: right;\">\n",
       "      <th></th>\n",
       "      <th>user_id</th>\n",
       "    </tr>\n",
       "    <tr>\n",
       "      <th>grp</th>\n",
       "      <th></th>\n",
       "    </tr>\n",
       "  </thead>\n",
       "  <tbody>\n",
       "    <tr>\n",
       "      <th>A</th>\n",
       "      <td>31439</td>\n",
       "    </tr>\n",
       "    <tr>\n",
       "      <th>B</th>\n",
       "      <td>41046</td>\n",
       "    </tr>\n",
       "  </tbody>\n",
       "</table>\n",
       "</div>"
      ],
      "text/plain": [
       "     user_id\n",
       "grp         \n",
       "A      31439\n",
       "B      41046"
      ]
     },
     "execution_count": 7,
     "metadata": {},
     "output_type": "execute_result"
    }
   ],
   "source": [
    "cook_reg.groupby('grp').agg({'user_id':'count'})"
   ]
  },
  {
   "cell_type": "markdown",
   "metadata": {},
   "source": [
    "С **лендинга В** пришло **больше пользователей**.\n",
    "\n",
    "**Соединим таблицы** с данными об участниках теста и с данными о покупках:"
   ]
  },
  {
   "cell_type": "code",
   "execution_count": 8,
   "metadata": {},
   "outputs": [
    {
     "data": {
      "text/html": [
       "<div>\n",
       "<style scoped>\n",
       "    .dataframe tbody tr th:only-of-type {\n",
       "        vertical-align: middle;\n",
       "    }\n",
       "\n",
       "    .dataframe tbody tr th {\n",
       "        vertical-align: top;\n",
       "    }\n",
       "\n",
       "    .dataframe thead th {\n",
       "        text-align: right;\n",
       "    }\n",
       "</style>\n",
       "<table border=\"1\" class=\"dataframe\">\n",
       "  <thead>\n",
       "    <tr style=\"text-align: right;\">\n",
       "      <th></th>\n",
       "      <th>cookie_id</th>\n",
       "      <th>grp</th>\n",
       "      <th>user_id</th>\n",
       "      <th>amount</th>\n",
       "    </tr>\n",
       "  </thead>\n",
       "  <tbody>\n",
       "    <tr>\n",
       "      <th>0</th>\n",
       "      <td>65hj0vyf6kfrckx</td>\n",
       "      <td>A</td>\n",
       "      <td>716849.0</td>\n",
       "      <td>NaN</td>\n",
       "    </tr>\n",
       "    <tr>\n",
       "      <th>1</th>\n",
       "      <td>dnjw8oy95td2jqf</td>\n",
       "      <td>B</td>\n",
       "      <td>NaN</td>\n",
       "      <td>NaN</td>\n",
       "    </tr>\n",
       "    <tr>\n",
       "      <th>2</th>\n",
       "      <td>beiyb0xfie92m43</td>\n",
       "      <td>B</td>\n",
       "      <td>NaN</td>\n",
       "      <td>NaN</td>\n",
       "    </tr>\n",
       "    <tr>\n",
       "      <th>3</th>\n",
       "      <td>xyd746tr80pnnbi</td>\n",
       "      <td>B</td>\n",
       "      <td>NaN</td>\n",
       "      <td>NaN</td>\n",
       "    </tr>\n",
       "    <tr>\n",
       "      <th>4</th>\n",
       "      <td>dpq6rqi93zgekgv</td>\n",
       "      <td>A</td>\n",
       "      <td>NaN</td>\n",
       "      <td>NaN</td>\n",
       "    </tr>\n",
       "    <tr>\n",
       "      <th>...</th>\n",
       "      <td>...</td>\n",
       "      <td>...</td>\n",
       "      <td>...</td>\n",
       "      <td>...</td>\n",
       "    </tr>\n",
       "    <tr>\n",
       "      <th>253167</th>\n",
       "      <td>e2e7xo4mh9gbqpb</td>\n",
       "      <td>A</td>\n",
       "      <td>334362.0</td>\n",
       "      <td>NaN</td>\n",
       "    </tr>\n",
       "    <tr>\n",
       "      <th>253168</th>\n",
       "      <td>cmwfr9djxdj6vgr</td>\n",
       "      <td>B</td>\n",
       "      <td>NaN</td>\n",
       "      <td>NaN</td>\n",
       "    </tr>\n",
       "    <tr>\n",
       "      <th>253169</th>\n",
       "      <td>0ou6tl9qdzq9w4x</td>\n",
       "      <td>B</td>\n",
       "      <td>NaN</td>\n",
       "      <td>NaN</td>\n",
       "    </tr>\n",
       "    <tr>\n",
       "      <th>253170</th>\n",
       "      <td>c375picbbkkzfy9</td>\n",
       "      <td>B</td>\n",
       "      <td>NaN</td>\n",
       "      <td>NaN</td>\n",
       "    </tr>\n",
       "    <tr>\n",
       "      <th>253171</th>\n",
       "      <td>wi2tfquoi6uraot</td>\n",
       "      <td>A</td>\n",
       "      <td>NaN</td>\n",
       "      <td>NaN</td>\n",
       "    </tr>\n",
       "  </tbody>\n",
       "</table>\n",
       "<p>253172 rows × 4 columns</p>\n",
       "</div>"
      ],
      "text/plain": [
       "              cookie_id grp   user_id  amount\n",
       "0       65hj0vyf6kfrckx   A  716849.0     NaN\n",
       "1       dnjw8oy95td2jqf   B       NaN     NaN\n",
       "2       beiyb0xfie92m43   B       NaN     NaN\n",
       "3       xyd746tr80pnnbi   B       NaN     NaN\n",
       "4       dpq6rqi93zgekgv   A       NaN     NaN\n",
       "...                 ...  ..       ...     ...\n",
       "253167  e2e7xo4mh9gbqpb   A  334362.0     NaN\n",
       "253168  cmwfr9djxdj6vgr   B       NaN     NaN\n",
       "253169  0ou6tl9qdzq9w4x   B       NaN     NaN\n",
       "253170  c375picbbkkzfy9   B       NaN     NaN\n",
       "253171  wi2tfquoi6uraot   A       NaN     NaN\n",
       "\n",
       "[253172 rows x 4 columns]"
      ]
     },
     "execution_count": 8,
     "metadata": {},
     "output_type": "execute_result"
    }
   ],
   "source": [
    "new_table = cook_reg.merge(gr_purchases, on = 'user_id', how = 'left')\n",
    "new_table"
   ]
  },
  {
   "cell_type": "markdown",
   "metadata": {},
   "source": [
    "### Анализ данных\n",
    "\n",
    "Посмотрим, **в каких пропорциях разбиты пользователи на группы** и **сколько пользователей** в каждой группе **что-то купило** (buyers), а также определим общее количество пользователей (visitors), которые посмотрели лендинг (из них users - которые зарегистрировались после просмотра):"
   ]
  },
  {
   "cell_type": "code",
   "execution_count": 9,
   "metadata": {},
   "outputs": [
    {
     "data": {
      "text/html": [
       "<div>\n",
       "<style scoped>\n",
       "    .dataframe tbody tr th:only-of-type {\n",
       "        vertical-align: middle;\n",
       "    }\n",
       "\n",
       "    .dataframe tbody tr th {\n",
       "        vertical-align: top;\n",
       "    }\n",
       "\n",
       "    .dataframe thead th {\n",
       "        text-align: right;\n",
       "    }\n",
       "</style>\n",
       "<table border=\"1\" class=\"dataframe\">\n",
       "  <thead>\n",
       "    <tr style=\"text-align: right;\">\n",
       "      <th></th>\n",
       "      <th>users</th>\n",
       "      <th>buyers</th>\n",
       "      <th>visitors</th>\n",
       "    </tr>\n",
       "    <tr>\n",
       "      <th>grp</th>\n",
       "      <th></th>\n",
       "      <th></th>\n",
       "      <th></th>\n",
       "    </tr>\n",
       "  </thead>\n",
       "  <tbody>\n",
       "    <tr>\n",
       "      <th>A</th>\n",
       "      <td>31439</td>\n",
       "      <td>5815</td>\n",
       "      <td>101329</td>\n",
       "    </tr>\n",
       "    <tr>\n",
       "      <th>B</th>\n",
       "      <td>41046</td>\n",
       "      <td>8797</td>\n",
       "      <td>151843</td>\n",
       "    </tr>\n",
       "  </tbody>\n",
       "</table>\n",
       "</div>"
      ],
      "text/plain": [
       "     users  buyers  visitors\n",
       "grp                         \n",
       "A    31439    5815    101329\n",
       "B    41046    8797    151843"
      ]
     },
     "execution_count": 9,
     "metadata": {},
     "output_type": "execute_result"
    }
   ],
   "source": [
    "new_table_summary = new_table.groupby('grp').agg({'user_id':'count','amount':'count', 'cookie_id':'count'}).rename(columns={'user_id':'users','amount':'buyers','cookie_id':'visitors'}) #Агрегация данных\n",
    "new_table_summary"
   ]
  },
  {
   "cell_type": "markdown",
   "metadata": {},
   "source": [
    "Посчитаем, какая **доля пользователей** находится в группе А и в группе В:"
   ]
  },
  {
   "cell_type": "code",
   "execution_count": 10,
   "metadata": {},
   "outputs": [
    {
     "data": {
      "text/plain": [
       "0.43373111678278264"
      ]
     },
     "execution_count": 10,
     "metadata": {},
     "output_type": "execute_result"
    }
   ],
   "source": [
    "new_table_summary.loc[new_table_summary.index == 'A', 'users'].sum()/new_table_summary.users.sum()"
   ]
  },
  {
   "cell_type": "code",
   "execution_count": 11,
   "metadata": {},
   "outputs": [
    {
     "data": {
      "text/plain": [
       "0.5662688832172174"
      ]
     },
     "execution_count": 11,
     "metadata": {},
     "output_type": "execute_result"
    }
   ],
   "source": [
    "new_table_summary.loc[new_table_summary.index == 'B', 'users'].sum()/new_table_summary.users.sum()"
   ]
  },
  {
   "cell_type": "markdown",
   "metadata": {},
   "source": [
    "В нашем случае в группе А - 43,4 % пользователей, а в группе В - 56,6% пользователей.\n",
    "\n",
    "#### Считаем  конверсию пользователя из просмотра лендинга в покупателя и конверсию в покупку"
   ]
  },
  {
   "cell_type": "code",
   "execution_count": 12,
   "metadata": {},
   "outputs": [
    {
     "data": {
      "text/html": [
       "<div>\n",
       "<style scoped>\n",
       "    .dataframe tbody tr th:only-of-type {\n",
       "        vertical-align: middle;\n",
       "    }\n",
       "\n",
       "    .dataframe tbody tr th {\n",
       "        vertical-align: top;\n",
       "    }\n",
       "\n",
       "    .dataframe thead th {\n",
       "        text-align: right;\n",
       "    }\n",
       "</style>\n",
       "<table border=\"1\" class=\"dataframe\">\n",
       "  <thead>\n",
       "    <tr style=\"text-align: right;\">\n",
       "      <th></th>\n",
       "      <th>users</th>\n",
       "      <th>buyers</th>\n",
       "      <th>visitors</th>\n",
       "      <th>conversion_landing</th>\n",
       "      <th>conversion_buying</th>\n",
       "    </tr>\n",
       "    <tr>\n",
       "      <th>grp</th>\n",
       "      <th></th>\n",
       "      <th></th>\n",
       "      <th></th>\n",
       "      <th></th>\n",
       "      <th></th>\n",
       "    </tr>\n",
       "  </thead>\n",
       "  <tbody>\n",
       "    <tr>\n",
       "      <th>A</th>\n",
       "      <td>31439</td>\n",
       "      <td>5815</td>\n",
       "      <td>101329</td>\n",
       "      <td>5.738732</td>\n",
       "      <td>18.496135</td>\n",
       "    </tr>\n",
       "    <tr>\n",
       "      <th>B</th>\n",
       "      <td>41046</td>\n",
       "      <td>8797</td>\n",
       "      <td>151843</td>\n",
       "      <td>5.793484</td>\n",
       "      <td>21.432052</td>\n",
       "    </tr>\n",
       "  </tbody>\n",
       "</table>\n",
       "</div>"
      ],
      "text/plain": [
       "     users  buyers  visitors  conversion_landing  conversion_buying\n",
       "grp                                                                \n",
       "A    31439    5815    101329            5.738732          18.496135\n",
       "B    41046    8797    151843            5.793484          21.432052"
      ]
     },
     "execution_count": 12,
     "metadata": {},
     "output_type": "execute_result"
    }
   ],
   "source": [
    "new_table_summary['conversion_landing'] = ((new_table_summary.buyers/new_table_summary.visitors)*100) #Конверсия пользователя из просмотра лендинга в покупателя\n",
    "new_table_summary['conversion_buying'] = ((new_table_summary.buyers/new_table_summary.users)*100) # Конверсия в покупку\n",
    "new_table_summary"
   ]
  },
  {
   "cell_type": "markdown",
   "metadata": {},
   "source": [
    "**Конверсия** из просмотра лендинга в покупателя в первой группе **5,74%**, а во второй — **5,79%**.\n",
    "**Конверсия** в покупку в первой группе - **18,5%**, а во второй группе **21,4%**.\n",
    "\n",
    "#### Считаем средний чек"
   ]
  },
  {
   "cell_type": "code",
   "execution_count": 13,
   "metadata": {},
   "outputs": [
    {
     "data": {
      "text/html": [
       "<div>\n",
       "<style scoped>\n",
       "    .dataframe tbody tr th:only-of-type {\n",
       "        vertical-align: middle;\n",
       "    }\n",
       "\n",
       "    .dataframe tbody tr th {\n",
       "        vertical-align: top;\n",
       "    }\n",
       "\n",
       "    .dataframe thead th {\n",
       "        text-align: right;\n",
       "    }\n",
       "</style>\n",
       "<table border=\"1\" class=\"dataframe\">\n",
       "  <thead>\n",
       "    <tr style=\"text-align: right;\">\n",
       "      <th></th>\n",
       "      <th>users</th>\n",
       "      <th>buyers</th>\n",
       "      <th>visitors</th>\n",
       "      <th>conversion_landing</th>\n",
       "      <th>conversion_buying</th>\n",
       "      <th>avg_bill</th>\n",
       "    </tr>\n",
       "    <tr>\n",
       "      <th>grp</th>\n",
       "      <th></th>\n",
       "      <th></th>\n",
       "      <th></th>\n",
       "      <th></th>\n",
       "      <th></th>\n",
       "      <th></th>\n",
       "    </tr>\n",
       "  </thead>\n",
       "  <tbody>\n",
       "    <tr>\n",
       "      <th>A</th>\n",
       "      <td>31439</td>\n",
       "      <td>5815</td>\n",
       "      <td>101329</td>\n",
       "      <td>5.738732</td>\n",
       "      <td>18.496135</td>\n",
       "      <td>553.052451</td>\n",
       "    </tr>\n",
       "    <tr>\n",
       "      <th>B</th>\n",
       "      <td>41046</td>\n",
       "      <td>8797</td>\n",
       "      <td>151843</td>\n",
       "      <td>5.793484</td>\n",
       "      <td>21.432052</td>\n",
       "      <td>623.093100</td>\n",
       "    </tr>\n",
       "  </tbody>\n",
       "</table>\n",
       "</div>"
      ],
      "text/plain": [
       "     users  buyers  visitors  conversion_landing  conversion_buying  \\\n",
       "grp                                                                   \n",
       "A    31439    5815    101329            5.738732          18.496135   \n",
       "B    41046    8797    151843            5.793484          21.432052   \n",
       "\n",
       "       avg_bill  \n",
       "grp              \n",
       "A    553.052451  \n",
       "B    623.093100  "
      ]
     },
     "execution_count": 13,
     "metadata": {},
     "output_type": "execute_result"
    }
   ],
   "source": [
    "new_table_summary = new_table_summary.merge(new_table.groupby('grp').agg({'amount':'mean'}).rename(columns = {'amount':'avg_bill'}), \n",
    "                 left_index = True, right_index = True) # Сделали агрегацию и прикрепили её к new_table_summary\n",
    "new_table_summary"
   ]
  },
  {
   "cell_type": "markdown",
   "metadata": {},
   "source": [
    "#### Считаем ARPU\n",
    "\n",
    "Осталось подсчитать ARPU пользователей, то есть среднюю выручку на пользователя в группе, а также дополнительную выручку, которую принесла группа В."
   ]
  },
  {
   "cell_type": "code",
   "execution_count": 14,
   "metadata": {},
   "outputs": [
    {
     "data": {
      "text/html": [
       "<div>\n",
       "<style scoped>\n",
       "    .dataframe tbody tr th:only-of-type {\n",
       "        vertical-align: middle;\n",
       "    }\n",
       "\n",
       "    .dataframe tbody tr th {\n",
       "        vertical-align: top;\n",
       "    }\n",
       "\n",
       "    .dataframe thead th {\n",
       "        text-align: right;\n",
       "    }\n",
       "</style>\n",
       "<table border=\"1\" class=\"dataframe\">\n",
       "  <thead>\n",
       "    <tr style=\"text-align: right;\">\n",
       "      <th></th>\n",
       "      <th>users</th>\n",
       "      <th>buyers</th>\n",
       "      <th>visitors</th>\n",
       "      <th>conversion_landing</th>\n",
       "      <th>conversion_buying</th>\n",
       "      <th>avg_bill</th>\n",
       "      <th>revenue</th>\n",
       "      <th>ARPU</th>\n",
       "      <th>Доп. выручка</th>\n",
       "    </tr>\n",
       "    <tr>\n",
       "      <th>grp</th>\n",
       "      <th></th>\n",
       "      <th></th>\n",
       "      <th></th>\n",
       "      <th></th>\n",
       "      <th></th>\n",
       "      <th></th>\n",
       "      <th></th>\n",
       "      <th></th>\n",
       "      <th></th>\n",
       "    </tr>\n",
       "  </thead>\n",
       "  <tbody>\n",
       "    <tr>\n",
       "      <th>A</th>\n",
       "      <td>31439</td>\n",
       "      <td>5815</td>\n",
       "      <td>101329</td>\n",
       "      <td>5.738732</td>\n",
       "      <td>18.496135</td>\n",
       "      <td>553.052451</td>\n",
       "      <td>3216000.0</td>\n",
       "      <td>102.293330</td>\n",
       "      <td>0.000000e+00</td>\n",
       "    </tr>\n",
       "    <tr>\n",
       "      <th>B</th>\n",
       "      <td>41046</td>\n",
       "      <td>8797</td>\n",
       "      <td>151843</td>\n",
       "      <td>5.793484</td>\n",
       "      <td>21.432052</td>\n",
       "      <td>623.093100</td>\n",
       "      <td>5481350.0</td>\n",
       "      <td>133.541636</td>\n",
       "      <td>1.282618e+06</td>\n",
       "    </tr>\n",
       "  </tbody>\n",
       "</table>\n",
       "</div>"
      ],
      "text/plain": [
       "     users  buyers  visitors  conversion_landing  conversion_buying  \\\n",
       "grp                                                                   \n",
       "A    31439    5815    101329            5.738732          18.496135   \n",
       "B    41046    8797    151843            5.793484          21.432052   \n",
       "\n",
       "       avg_bill    revenue        ARPU  Доп. выручка  \n",
       "grp                                                   \n",
       "A    553.052451  3216000.0  102.293330  0.000000e+00  \n",
       "B    623.093100  5481350.0  133.541636  1.282618e+06  "
      ]
     },
     "execution_count": 14,
     "metadata": {},
     "output_type": "execute_result"
    }
   ],
   "source": [
    "new_table_summary = new_table_summary.merge(new_table.groupby('grp').agg({'amount':'sum'}).rename(columns = {'amount':'revenue'}), \n",
    "                 left_index = True, right_index = True) # Сделали агрегацию и прикрепили её к new_table_summary\n",
    "new_table_summary['ARPU'] = new_table_summary.revenue/new_table_summary.users\n",
    "new_table_summary['Доп. выручка'] = new_table_summary.users*(new_table_summary.ARPU - new_table_summary.loc['A', 'ARPU'])\n",
    "new_table_summary"
   ]
  },
  {
   "cell_type": "markdown",
   "metadata": {},
   "source": [
    "**ARPU** группы В выше, чем в группе А на **30,5%**, а **дополнительная выручка** в группе В составляет **1 282 618 рублей**.\n",
    "\n",
    "***\n",
    "\n",
    "Проверим, статистически ли значимое это изменение, то есть можно ли ему доверять.\n",
    "\n",
    "#### Посчитаем значимость изменения конверсии"
   ]
  },
  {
   "cell_type": "code",
   "execution_count": 15,
   "metadata": {},
   "outputs": [
    {
     "data": {
      "text/plain": [
       "(-0.5787826665981052, 0.5627358282855696)"
      ]
     },
     "execution_count": 15,
     "metadata": {},
     "output_type": "execute_result"
    }
   ],
   "source": [
    "ztest(new_table.loc[new_table.grp == 'A', 'amount'].apply(lambda x: 1 if pd.notnull(x) else 0),# Конверсии пользователей группы А\n",
    "     new_table.loc[new_table.grp == 'B', 'amount'].apply(lambda x: 1 if pd.notnull(x) else 0) # Конверсии пользователей группы B\n",
    "     ) "
   ]
  },
  {
   "cell_type": "markdown",
   "metadata": {},
   "source": [
    "**Вывод:**\n",
    "\n",
    "Конверсия из лендинга почти не отличается, конверсия в покупку выше в группе В.\n",
    "Z-test выдаёт два параметра: z-статистику и p-value. p-value составляет 0.5627358282855696. "
   ]
  },
  {
   "cell_type": "markdown",
   "metadata": {},
   "source": [
    "#### Визуализируем и проверим с помощью статистического теста Шапиро-Вилка как распределены средний чек и покупки:"
   ]
  },
  {
   "cell_type": "code",
   "execution_count": 16,
   "metadata": {},
   "outputs": [
    {
     "data": {
      "image/png": "[encoded data removed]",
      "text/plain": [
       "<Figure size 432x288 with 1 Axes>"
      ]
     },
     "metadata": {
      "needs_background": "light"
     },
     "output_type": "display_data"
    },
    {
     "data": {
      "image/png": "[encoded data removed]",
      "text/plain": [
       "<Figure size 432x288 with 1 Axes>"
      ]
     },
     "metadata": {
      "needs_background": "light"
     },
     "output_type": "display_data"
    },
    {
     "data": {
      "image/png": "[encoded data removed]",
      "text/plain": [
       "<Figure size 432x288 with 1 Axes>"
      ]
     },
     "metadata": {
      "needs_background": "light"
     },
     "output_type": "display_data"
    },
    {
     "data": {
      "image/png": "[encoded data removed]",
      "text/plain": [
       "<Figure size 432x288 with 1 Axes>"
      ]
     },
     "metadata": {
      "needs_background": "light"
     },
     "output_type": "display_data"
    }
   ],
   "source": [
    "ax = plt.subplot()\n",
    "new_table.loc[new_table.grp == 'A', 'amount'].dropna().hist()\n",
    "ax.set_xlabel('Чек, руб')\n",
    "ax.set_ylabel('Количество пользователей')\n",
    "ax.set_title('Гистограмма распределения чеков на платящих пользователей')\n",
    "plt.show()\n",
    "\n",
    "ax = plt.subplot()\n",
    "new_table.loc[new_table.grp == 'A', 'amount'].fillna(0).hist()\n",
    "ax.set_xlabel('Выручка, руб')\n",
    "ax.set_ylabel('Количество пользователей')\n",
    "ax.set_title('Гистограмма распределения выручки на пользователей')\n",
    "plt.show()\n",
    "\n",
    "ax = plt.subplot()\n",
    "new_table.loc[new_table.grp == 'B', 'amount'].dropna().hist()\n",
    "ax.set_xlabel('Чек, руб')\n",
    "ax.set_ylabel('Количество пользователей')\n",
    "ax.set_title('Гистограмма распределения чеков на платящих пользователей')\n",
    "plt.show()\n",
    "\n",
    "ax = plt.subplot()\n",
    "new_table.loc[new_table.grp == 'B', 'amount'].fillna(0).hist()\n",
    "ax.set_xlabel('Выручка, руб')\n",
    "ax.set_ylabel('Количество пользователей')\n",
    "ax.set_title('Гистограмма распределения выручки на пользователей')\n",
    "plt.show()"
   ]
  },
  {
   "cell_type": "markdown",
   "metadata": {},
   "source": [
    "Очевидно, что распределение не является нормальным.\n",
    "\n",
    "#### Применим тест Манна-Уитни\n",
    "\n",
    "Так как распределения признаков не бинарные (0-1) и не нормальные, то нужно использовать для сравнения средних не только T-test, но и непараметрический U-тест Манна-Уитни.\n",
    "\n",
    "##### Сравним средние чеки:"
   ]
  },
  {
   "cell_type": "code",
   "execution_count": 17,
   "metadata": {},
   "outputs": [
    {
     "name": "stdout",
     "output_type": "stream",
     "text": [
      "MannwhitneyuResult(statistic=23997449.0, pvalue=1.5894355470534353e-11)\n",
      "Ttest_indResult(statistic=-7.698737457881192, pvalue=1.4620086805787972e-14)\n"
     ]
    }
   ],
   "source": [
    "print(stats.mannwhitneyu(new_table.loc[new_table.grp == 'A', 'amount'].dropna(), new_table.loc[new_table.grp == 'B', 'amount'].dropna()),\n",
    "stats.ttest_ind(new_table.loc[new_table.grp == 'A', 'amount'].dropna(), new_table.loc[new_table.grp == 'B', 'amount'].dropna())\n",
    "      , sep = '\\n')"
   ]
  },
  {
   "cell_type": "markdown",
   "metadata": {},
   "source": [
    "Как мы видим, средние чеки также значимо различаются (так как p-value << 0.05) по каждому из тестов.\n",
    "\n",
    "##### Сравниваем ARPU"
   ]
  },
  {
   "cell_type": "code",
   "execution_count": 18,
   "metadata": {},
   "outputs": [
    {
     "name": "stdout",
     "output_type": "stream",
     "text": [
      "MannwhitneyuResult(statistic=7687257761.0, pvalue=0.2131782418227564)\n",
      "Ttest_indResult(statistic=-5.6615374023743055, pvalue=1.501844531390091e-08)\n"
     ]
    }
   ],
   "source": [
    "print(stats.mannwhitneyu(new_table.loc[new_table.grp == 'A', 'amount'].fillna(0), new_table.loc[new_table.grp == 'B', 'amount'].fillna(0)),\n",
    "      stats.ttest_ind(new_table.loc[new_table.grp == 'A', 'amount'].fillna(0), new_table.loc[new_table.grp == 'B', 'amount'].fillna(0)),\n",
    "     sep = '\\n')"
   ]
  },
  {
   "cell_type": "markdown",
   "metadata": {},
   "source": [
    "**Вывод:**\n",
    "P-value для ARPU для Т-теста значительно меньше 0.05, а p-value теста Манна-Уитни больше 0.05, и это все равно говорит о значимых различиях показателей.\n",
    "\n",
    "\n",
    "#### Строим доверительные интервалы\n",
    "\n",
    "Построим для каждой метрики доверительные интервалы для среднего, чтобы визуализация была более наглядной. "
   ]
  },
  {
   "cell_type": "code",
   "execution_count": 19,
   "metadata": {},
   "outputs": [],
   "source": [
    "# Важные функции для получения доверительных интервалов\n",
    "def get_conf_interval(data, conf_level = 0.95):  \n",
    "# Считает доверительные интервалы для средних\n",
    "        buf = (stats.t.interval(conf_level, len(data),\n",
    "                             loc=np.mean(data), scale=stats.sem(data)))\n",
    "        return (buf[1] - buf[0])/2\n",
    "    \n",
    "def get_conf_interval_z(succ, tot):  \n",
    "# Считает доверительные интервалы для бинарных величин\n",
    "    buf = proportion_confint(succ, tot)\n",
    "    return buf[1] - buf[0]"
   ]
  },
  {
   "cell_type": "code",
   "execution_count": 20,
   "metadata": {},
   "outputs": [
    {
     "data": {
      "text/plain": [
       "1.0981455326877274"
      ]
     },
     "execution_count": 20,
     "metadata": {},
     "output_type": "execute_result"
    }
   ],
   "source": [
    "get_conf_interval(new_table.loc[new_table.grp == 'A', 'amount'].fillna(0)) \n",
    "# Доверительный полуинтервал для АРПУ пользователей в группе А"
   ]
  },
  {
   "cell_type": "code",
   "execution_count": 21,
   "metadata": {},
   "outputs": [],
   "source": [
    "# Составляем словарь с доверительными интервалами для каждой метрики и для каждой группы\n",
    "conf_intervals = {'ARPU':{'A':get_conf_interval(new_table.loc[new_table.grp == 'A', 'amount'].fillna(0)),\n",
    "                          'B':get_conf_interval(new_table.loc[new_table.grp == 'B', 'amount'].fillna(0))},\n",
    "                  'conversion':{'A':get_conf_interval_z(new_table.loc[new_table.grp == 'A', 'amount'].dropna().count(),\n",
    "                                                        new_table.loc[new_table.grp == 'A', 'user_id'].count()),\n",
    "                               'B':get_conf_interval_z(new_table.loc[new_table.grp == 'B', 'amount'].dropna().count(),\n",
    "                                                        new_table.loc[new_table.grp == 'B', 'user_id'].count())},\n",
    "                  'avg_bill':{'A':get_conf_interval(new_table.loc[new_table.grp == 'A', 'amount'].dropna()),\n",
    "                          'B':get_conf_interval(new_table.loc[new_table.grp == 'B', 'amount'].dropna())}\n",
    "                 }"
   ]
  },
  {
   "cell_type": "markdown",
   "metadata": {},
   "source": [
    "#### Составление отчета"
   ]
  },
  {
   "cell_type": "code",
   "execution_count": 22,
   "metadata": {},
   "outputs": [],
   "source": [
    "# Удобная функция для подстановки подписей на barplot\n",
    "def set_labels(axes):  \n",
    "# Расставляет подписи столбцов на барплоты\n",
    "    y0, y1 = axes.get_ybound()  \n",
    "# размер графика по оси Y\n",
    "    y_shift = 0.15* (y1 - y0)  \n",
    "# дополнительное место под надписи\n",
    "\n",
    "    for i, rect in enumerate(axes.patches):  \n",
    "# по всем нарисованным прямоугольникам\n",
    "        height = rect.get_height()\n",
    "        if abs(height) <= 10000:\n",
    "            label = str(round(height, 2))\n",
    "            if label[-1] == '0':\n",
    "                label = label[:-1]\n",
    "        elif abs(height) <= 1000000:\n",
    "            label = str(round(height/1000, 1))\n",
    "            if label[-1] == '0':\n",
    "                label = label[:-1] + 'k'\n",
    "            else:\n",
    "                label = label + 'k'\n",
    "        else:\n",
    "            label = str(round(height/1000000, 2))\n",
    "            if label[-1] == '0':\n",
    "                label = label[:-1] + 'm'\n",
    "            else:\n",
    "                label = label + 'm'\n",
    "        x = rect.get_x() + rect.get_width() / 2  \n",
    "# посередине прямоугольника\n",
    "        y = height + y_shift * 0.8  \n",
    "# над прямоугольником в середине доп. места\n",
    "        if height < 0:\n",
    "            y = y_shift * 0.8 \n",
    "        axes.text(x, y, label, ha='center', va='center', alpha = 0.7)\n",
    "        axes.set_ybound(y0, y1 + 1.5*y_shift)"
   ]
  },
  {
   "cell_type": "code",
   "execution_count": 23,
   "metadata": {},
   "outputs": [],
   "source": [
    "plot_summary = new_table_summary.T \n",
    "# Транспонированная таблица для удобства использования\n",
    "significant_changes = ['conversion', 'avg_bill'] \n",
    "# Метрики со статзначимыми различиями"
   ]
  },
  {
   "cell_type": "code",
   "execution_count": 24,
   "metadata": {},
   "outputs": [
    {
     "data": {
      "image/png": "[encoded data removed]",
      "text/plain": [
       "<Figure size 1008x432 with 9 Axes>"
      ]
     },
     "metadata": {
      "needs_background": "light"
     },
     "output_type": "display_data"
    }
   ],
   "source": [
    "from matplotlib import gridspec\n",
    "from math import ceil\n",
    "\n",
    "ax = [] \n",
    "# Массив для складирования графиков\n",
    "n_pict_in_line = 4 \n",
    "# Количество картинок в одной линии\n",
    "\n",
    "gs = gridspec.GridSpec(ceil(len(plot_summary) / float(n_pict_in_line)), n_pict_in_line) \n",
    "# Создаём сетку для графиков\n",
    "fig = plt.figure(figsize=(n_pict_in_line*3 + 2,\n",
    "                          ceil(len(plot_summary) / n_pict_in_line) * 2))\n",
    "\n",
    "## Считаем изменение метрики в процентах\n",
    "delta_percent = {}\n",
    "for row in plot_summary.index:  \n",
    "    if 'users' != row and 'buyers' != row and 'revenue' != row and \"Доп. выручка\" != row:\n",
    "        delta_percent[row] = '(' + str(round(plot_summary.loc[row, :].max()/\\\n",
    "                                  plot_summary.loc[row, :].min()*100 - 100, 1)) + '%)'\n",
    "        \n",
    "fig.suptitle('Результаты А/Б-теста')\n",
    "\n",
    "## Строим графики\n",
    "for i, col in enumerate(plot_summary.index):\n",
    "    ax.append(plt.subplot(gs[i // n_pict_in_line, i % n_pict_in_line])) \n",
    "# Добавляем subplot в нужную клетку\n",
    "    plot_summary.loc[[col], :].plot(kind='bar', rot=0, ax=ax[i], alpha=0.8, \n",
    "# Строим график в нужной клетке\n",
    "                                   yerr=conf_intervals[col] if col in conf_intervals else 0) \n",
    "    \n",
    "    \n",
    "# Редактируем подпись к графику, чтобы в ней хранилась информация о значимости различий \n",
    "    stars = ' * ' if col in significant_changes else '' \n",
    "    ticks = ax[-1].get_xticklabels()\n",
    "    ticks[0] = col + stars + delta_percent[col] if col in delta_percent else col + stars\n",
    "    ax[-1].set_xticklabels(ticks)\n",
    "    ax[-1].set_yticks([])\n",
    "    set_labels(axes=ax[i])"
   ]
  },
  {
   "cell_type": "markdown",
   "metadata": {},
   "source": [
    "### Выводы\n",
    "\n",
    "Итак, мы получили отчёт по А/Б-тесту для платформы для облачного хранения данных «Дункан МакКлауд» с интересующими нас метриками. По нему можно ответить на вопросы, связанные с метриками нашего теста и сделать выводы относительно его успешности:\n",
    "\n",
    "Был запущен А/Б-тест на два вида лендинга:\n",
    "А - короткий, на один экран, с ярким call-to-action,\n",
    "Б - длинный, с подробным разъяснением всех плюсов платформы для облачного хранения данных «Дункан МакКлауд».\n",
    "\n",
    "По результатам теста, \n",
    "**Пользователей** (users), так же как и **покупателей** (buyers) приходит больше в группе Б, чем в группе А.\n",
    "\n",
    "**ARPU** в группе Б больше на 30,5 %, чем в группе А.\n",
    "\n",
    "**Конверсия в покупку** в группе Б больше на 15,9%, чем в группе А.\n",
    "\n",
    "**Средний чек** в группе Б больше на 12,7%, чем в группе А.\n",
    "\n",
    "Таким, образом, можно сделать вывод о том, что показ длинного лендинга, с подробным разъяснением всех плюсов платформы (группа Б) более выгоден, чем показ короткого, но яркого лендинга (группа А).\n",
    "\n",
    "***\n",
    "### Рекомендации\n",
    "\n",
    "Рекомендую в настоящее время продолжить использовать лендинг В для привлечения новых клиентов."
   ]
  }
 ],
 "metadata": {
  "kernelspec": {
   "display_name": "Python 3",
   "language": "python",
   "name": "python3"
  },
  "language_info": {
   "codemirror_mode": {
    "name": "ipython",
    "version": 3
   },
   "file_extension": ".py",
   "mimetype": "text/x-python",
   "name": "python",
   "nbconvert_exporter": "python",
   "pygments_lexer": "ipython3",
   "version": "3.7.6"
  }
 },
 "nbformat": 4,
 "nbformat_minor": 4
}
